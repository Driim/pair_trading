{
 "cells": [
  {
   "cell_type": "markdown",
   "id": "f5c2d12c",
   "metadata": {},
   "source": [
    "Чтобы было удобней работать и меньше зависить от Yahoo Finance выкачиваем необходимые нам данные на диск.\n",
    "Какие индексы мы сохраняем:\n",
    "- S&P 500\n",
    "- S&P 600\n",
    "- S&P 400\n",
    "- Euronext 100\n",
    "\n",
    "\n",
    "Какие временные промежутки:\n",
    "- с 2020 по 2025 год\n",
    "- c 2023 по 2025 год\n",
    "- с 2025 по июль 2025 года"
   ]
  },
  {
   "cell_type": "code",
   "execution_count": null,
   "id": "ec1cb89f",
   "metadata": {},
   "outputs": [],
   "source": [
    "import pandas as pd\n",
    "import yfinance as yf\n",
    "\n",
    "start_short_history = \"2023-01-01\"\n",
    "end_short_history = \"2025-01-01\"\n",
    "\n",
    "start_history = \"2020-01-01\"\n",
    "end_history = \"2025-01-01\"\n",
    "\n",
    "start_live = \"2025-01-01\"\n",
    "end_live = \"2025-07-01\""
   ]
  },
  {
   "cell_type": "markdown",
   "id": "47c98bc8",
   "metadata": {},
   "source": [
    "S&P 500 Index"
   ]
  },
  {
   "cell_type": "code",
   "execution_count": null,
   "id": "40ab9f83",
   "metadata": {},
   "outputs": [],
   "source": [
    "sp500_stocks = pd.read_html('https://en.wikipedia.org/wiki/List_of_S%26P_500_companies')[0][['Symbol', 'Security', 'GICS Sector', 'GICS Sub-Industry']]\n",
    "sp500_stocks = sp500_stocks.rename(columns={'Symbol': 'ticker', 'Security': 'company', 'GICS Sector': 'sector', 'GICS Sub-Industry': 'industry'})\n",
    "\n",
    "sp500_stocks.to_parquet('../data/sp500_stocks.parquet', index=False)\n",
    "\n",
    "sp500_history = yf.download(sp500_stocks['ticker'].tolist(), start=start_history, end=end_history, auto_adjust=False)\n",
    "sp500_history.to_parquet(f\"../data/sp500_{start_history}_{end_history}.parquet\")\n",
    "\n",
    "sp500_short_history = yf.download(sp500_stocks['ticker'].tolist(), start=start_short_history, end=end_short_history, auto_adjust=False)\n",
    "sp500_short_history.to_parquet(f\"../data/sp500_{start_short_history}_{end_short_history}.parquet\")\n",
    "\n",
    "sp500_live = yf.download(sp500_stocks['ticker'].tolist(), start=start_live, end=end_live, auto_adjust=False)\n",
    "sp500_live.to_parquet(f\"../data/sp500_{start_live}_{end_live}.parquet\")"
   ]
  },
  {
   "cell_type": "markdown",
   "id": "558e42cd",
   "metadata": {},
   "source": [
    "S&P 400 Index Mid CAP"
   ]
  },
  {
   "cell_type": "code",
   "execution_count": null,
   "id": "d791f785",
   "metadata": {},
   "outputs": [],
   "source": [
    "sp400_stocks = pd.read_html('https://en.wikipedia.org/wiki/List_of_S%26P_400_companies')[0][['Symbol', 'Security', 'GICS Sector', 'GICS Sub-Industry']]\n",
    "sp400_stocks = sp400_stocks.rename(columns={'Symbol': 'ticker', 'Security': 'company', 'GICS Sector': 'sector', 'GICS Sub-Industry': 'industry'})\n",
    "\n",
    "sp400_stocks.to_parquet('../data/sp400_stocks.parquet', index=False)\n",
    "\n",
    "sp400_history = yf.download(sp400_stocks['ticker'].tolist(), start=start_history, end=end_history, auto_adjust=False)\n",
    "sp400_history.to_parquet(f\"../data/sp400_{start_history}_{end_history}.parquet\")\n",
    "\n",
    "sp400_short_history = yf.download(sp400_stocks['ticker'].tolist(), start=start_short_history, end=end_short_history, auto_adjust=False)\n",
    "sp400_short_history.to_parquet(f\"../data/sp400_{start_short_history}_{end_short_history}.parquet\")\n",
    "\n",
    "sp400_live = yf.download(sp400_stocks['ticker'].tolist(), start=start_live, end=end_live, auto_adjust=False)\n",
    "sp400_live.to_parquet(f\"../data/sp400_{start_live}_{end_live}.parquet\")"
   ]
  },
  {
   "cell_type": "markdown",
   "id": "ac113a1e",
   "metadata": {},
   "source": [
    "S&P 600 Small CAP"
   ]
  },
  {
   "cell_type": "code",
   "execution_count": null,
   "id": "33b699ca",
   "metadata": {},
   "outputs": [],
   "source": [
    "sp600_stocks = pd.read_html('https://en.wikipedia.org/wiki/List_of_S%26P_600_companies')[0]\n",
    "sp600_stocks = sp600_stocks[['Symbol', 'Company', 'GICS Sector', 'GICS Sub-Industry']]\n",
    "sp600_stocks = sp600_stocks.rename(columns={'Symbol': 'ticker', 'Company': 'company', 'GICS Sector': 'sector', 'GICS Sub-Industry': 'industry'})\n",
    "\n",
    "sp600_stocks.to_parquet('../data/sp600_stocks.parquet', index=False)\n",
    "\n",
    "sp600_history = yf.download(sp600_stocks['ticker'].tolist(), start=start_history, end=end_history, auto_adjust=False)\n",
    "sp600_history.to_parquet(f\"../data/sp600_{start_history}_{end_history}.parquet\")\n",
    "\n",
    "sp600_short_history = yf.download(sp600_stocks['ticker'].tolist(), start=start_short_history, end=end_short_history, auto_adjust=False)\n",
    "sp600_short_history.to_parquet(f\"../data/sp600_{start_short_history}_{end_short_history}.parquet\")\n",
    "\n",
    "sp600_live = yf.download(sp600_stocks['ticker'].tolist(), start=start_live, end=end_live, auto_adjust=False)\n",
    "sp600_live.to_parquet(f\"../data/sp600_{start_live}_{end_live}.parquet\")"
   ]
  },
  {
   "cell_type": "markdown",
   "id": "73d099b7",
   "metadata": {},
   "source": [
    "S&P 1500 = S&P500 + S&P600 + S&P400"
   ]
  },
  {
   "cell_type": "code",
   "execution_count": null,
   "id": "0bb83a01",
   "metadata": {},
   "outputs": [],
   "source": [
    "tmp_1500 = pd.merge(sp600_history, sp400_history, on='Date', how='inner')\n",
    "sp1500_history = pd.merge(sp500_history, tmp_1500, on='Date', how='inner')\n",
    "\n",
    "sp1500_history.to_parquet(f\"../data/sp1500_{start_history}_{end_history}.parquet\")\n",
    "\n",
    "tmp_1500 = pd.merge(sp600_short_history, sp400_short_history, on='Date', how='inner')\n",
    "sp1500_short_history = pd.merge(sp500_short_history, tmp_1500, on='Date', how='inner')\n",
    "\n",
    "sp1500_short_history.to_parquet(f\"../data/sp1500_{start_short_history}_{end_short_history}.parquet\")\n",
    "\n",
    "tmp_1500 = pd.merge(sp600_live, sp400_live, on='Date', how='inner')\n",
    "sp1500_live = pd.merge(sp500_live, tmp_1500, on='Date', how='inner')\n",
    "\n",
    "sp1500_live.to_parquet(f\"../data/sp1500_{start_live}_{end_live}.parquet\")\n",
    "sp1500_stocks = pd.concat([sp500_stocks, sp600_stocks, sp400_stocks], ignore_index=True)\n",
    "sp1500_stocks.to_parquet('../data/sp1500_stocks.parquet', index=False)\n",
    "\n",
    "sp1500_stocks"
   ]
  },
  {
   "cell_type": "markdown",
   "id": "0972ab2e",
   "metadata": {},
   "source": [
    "Euronext 100"
   ]
  },
  {
   "cell_type": "code",
   "execution_count": null,
   "id": "bef72e49",
   "metadata": {},
   "outputs": [],
   "source": [
    "euronext = pd.read_html('https://en.wikipedia.org/wiki/Euronext_100')[3]\n",
    "euronext = euronext[['Ticker', 'Name']]\n",
    "euronext = euronext.rename(columns={'Ticker': 'ticker', 'Name': 'company'})\n",
    "euronext.to_parquet('../data/euronext_stocks.parquet', index=False)\n",
    "\n",
    "euronext_history = yf.download(euronext['ticker'].tolist(), start=start_history, end=end_history, auto_adjust=False)\n",
    "euronext_history.to_parquet(f\"../data/euronext_{start_history}_{end_history}.parquet\")\n",
    "\n",
    "euronext_live = yf.download(euronext['ticker'].tolist(), start=start_live, end=end_live, auto_adjust=False)\n",
    "euronext_live.to_parquet(f\"../data/euronext_{start_live}_{end_live}.parquet\")\n",
    "\n",
    "euronext_live"
   ]
  }
 ],
 "metadata": {
  "kernelspec": {
   "display_name": "base",
   "language": "python",
   "name": "python3"
  },
  "language_info": {
   "codemirror_mode": {
    "name": "ipython",
    "version": 3
   },
   "file_extension": ".py",
   "mimetype": "text/x-python",
   "name": "python",
   "nbconvert_exporter": "python",
   "pygments_lexer": "ipython3",
   "version": "3.13.1"
  }
 },
 "nbformat": 4,
 "nbformat_minor": 5
}
